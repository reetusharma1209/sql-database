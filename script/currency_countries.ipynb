{
 "cells": [
  {
   "cell_type": "code",
   "execution_count": 52,
   "metadata": {},
   "outputs": [],
   "source": [
    "import requests\n",
    "from bs4 import BeautifulSoup\n",
    "import pandas as pd"
   ]
  },
  {
   "cell_type": "markdown",
   "metadata": {},
   "source": [
    "#### Get HTML Code from IBAN.COM"
   ]
  },
  {
   "cell_type": "code",
   "execution_count": 53,
   "metadata": {},
   "outputs": [],
   "source": [
    "# request html code\n",
    "request_url = \"https://www.iban.com/currency-codes\"\n",
    "response = requests.get(request_url)\n",
    "\n",
    "# parse html code\n",
    "soup = BeautifulSoup(response.content, \"html.parser\")"
   ]
  },
  {
   "cell_type": "markdown",
   "metadata": {},
   "source": [
    "#### Look for Table and get all Rows"
   ]
  },
  {
   "cell_type": "code",
   "execution_count": 54,
   "metadata": {},
   "outputs": [],
   "source": [
    "result = soup.find(name='table', class_='table table-bordered downloads tablesorter')\n",
    "items = result.find_all(name='tr')"
   ]
  },
  {
   "cell_type": "markdown",
   "metadata": {},
   "source": [
    "#### Bring result to Dataframe and save as CSV-File"
   ]
  },
  {
   "cell_type": "code",
   "execution_count": 55,
   "metadata": {},
   "outputs": [],
   "source": [
    "country_names = []\n",
    "currency_codes = []\n",
    "for k in range(len(items)-1):\n",
    "    k += 1\n",
    "    item = str(items[k]).split('</td>')\n",
    "    country_name = item[0][9:]\n",
    "    currency_code = item[2][-3:]\n",
    "    country_names.append(country_name)\n",
    "    currency_codes.append(currency_code)"
   ]
  },
  {
   "cell_type": "code",
   "execution_count": 56,
   "metadata": {},
   "outputs": [],
   "source": [
    "df = pd.DataFrame({'country': country_names, 'currency_code': currency_codes})\n",
    "df_group = df.groupby('country').agg({'currency_code': lambda x: ', '.join(x.unique())})\n",
    "df_2 = pd.DataFrame({'currency_code': df_group['currency_code']}).reset_index()\n",
    "\n",
    "path = \"../csv-files/currency_country_data.csv\"\n",
    "df_2.to_csv(path, index=False)"
   ]
  }
 ],
 "metadata": {
  "kernelspec": {
   "display_name": "base",
   "language": "python",
   "name": "python3"
  },
  "language_info": {
   "codemirror_mode": {
    "name": "ipython",
    "version": 3
   },
   "file_extension": ".py",
   "mimetype": "text/x-python",
   "name": "python",
   "nbconvert_exporter": "python",
   "pygments_lexer": "ipython3",
   "version": "3.11.7"
  }
 },
 "nbformat": 4,
 "nbformat_minor": 2
}
