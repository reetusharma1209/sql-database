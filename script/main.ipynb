{
 "cells": [
  {
   "cell_type": "code",
   "execution_count": 91,
   "metadata": {},
   "outputs": [
    {
     "data": {
      "text/plain": [
       "True"
      ]
     },
     "execution_count": 91,
     "metadata": {},
     "output_type": "execute_result"
    }
   ],
   "source": [
    "import pandas as pd\n",
    "import requests as re\n",
    "from bs4 import BeautifulSoup\n",
    "import os\n",
    "from dotenv import load_dotenv\n",
    "load_dotenv()"
   ]
  },
  {
   "cell_type": "markdown",
   "metadata": {},
   "source": [
    "### Create CSV-Files for the Database"
   ]
  },
  {
   "cell_type": "markdown",
   "metadata": {},
   "source": [
    "#### 1. Customer Data"
   ]
  },
  {
   "cell_type": "code",
   "execution_count": 68,
   "metadata": {},
   "outputs": [],
   "source": [
    "# CAUTION! Running this cell can take a while!\n",
    "\n",
    "path = '../datalake/online_retail_II.xlsx'\n",
    "xl = pd.ExcelFile(path)\n",
    "# xl.sheet_names  # see all sheet names\n",
    "\n",
    "df_1 = pd.read_excel(path, sheet_name='Year 2009-2010')\n",
    "df_2 = pd.read_excel(path, sheet_name='Year 2010-2011')\n",
    "df = pd.concat([df_1, df_2], axis=0, join='inner', ignore_index=True)\n",
    "df_copy = df.copy()\n",
    "\n",
    "# drop all rows with NaNs\n",
    "df = df.dropna()"
   ]
  },
  {
   "cell_type": "code",
   "execution_count": 69,
   "metadata": {},
   "outputs": [
    {
     "data": {
      "text/html": [
       "<div>\n",
       "<style scoped>\n",
       "    .dataframe tbody tr th:only-of-type {\n",
       "        vertical-align: middle;\n",
       "    }\n",
       "\n",
       "    .dataframe tbody tr th {\n",
       "        vertical-align: top;\n",
       "    }\n",
       "\n",
       "    .dataframe thead th {\n",
       "        text-align: right;\n",
       "    }\n",
       "</style>\n",
       "<table border=\"1\" class=\"dataframe\">\n",
       "  <thead>\n",
       "    <tr style=\"text-align: right;\">\n",
       "      <th></th>\n",
       "      <th>customer_id</th>\n",
       "      <th>country</th>\n",
       "    </tr>\n",
       "  </thead>\n",
       "  <tbody>\n",
       "    <tr>\n",
       "      <th>0</th>\n",
       "      <td>12346</td>\n",
       "      <td>UNITED KINGDOM</td>\n",
       "    </tr>\n",
       "    <tr>\n",
       "      <th>1</th>\n",
       "      <td>12347</td>\n",
       "      <td>ICELAND</td>\n",
       "    </tr>\n",
       "    <tr>\n",
       "      <th>2</th>\n",
       "      <td>12348</td>\n",
       "      <td>FINLAND</td>\n",
       "    </tr>\n",
       "    <tr>\n",
       "      <th>3</th>\n",
       "      <td>12349</td>\n",
       "      <td>ITALY</td>\n",
       "    </tr>\n",
       "    <tr>\n",
       "      <th>4</th>\n",
       "      <td>12350</td>\n",
       "      <td>NORWAY</td>\n",
       "    </tr>\n",
       "    <tr>\n",
       "      <th>...</th>\n",
       "      <td>...</td>\n",
       "      <td>...</td>\n",
       "    </tr>\n",
       "    <tr>\n",
       "      <th>5937</th>\n",
       "      <td>18283</td>\n",
       "      <td>UNITED KINGDOM</td>\n",
       "    </tr>\n",
       "    <tr>\n",
       "      <th>5938</th>\n",
       "      <td>18284</td>\n",
       "      <td>UNITED KINGDOM</td>\n",
       "    </tr>\n",
       "    <tr>\n",
       "      <th>5939</th>\n",
       "      <td>18285</td>\n",
       "      <td>UNITED KINGDOM</td>\n",
       "    </tr>\n",
       "    <tr>\n",
       "      <th>5940</th>\n",
       "      <td>18286</td>\n",
       "      <td>UNITED KINGDOM</td>\n",
       "    </tr>\n",
       "    <tr>\n",
       "      <th>5941</th>\n",
       "      <td>18287</td>\n",
       "      <td>UNITED KINGDOM</td>\n",
       "    </tr>\n",
       "  </tbody>\n",
       "</table>\n",
       "<p>5942 rows × 2 columns</p>\n",
       "</div>"
      ],
      "text/plain": [
       "      customer_id         country\n",
       "0           12346  UNITED KINGDOM\n",
       "1           12347         ICELAND\n",
       "2           12348         FINLAND\n",
       "3           12349           ITALY\n",
       "4           12350          NORWAY\n",
       "...           ...             ...\n",
       "5937        18283  UNITED KINGDOM\n",
       "5938        18284  UNITED KINGDOM\n",
       "5939        18285  UNITED KINGDOM\n",
       "5940        18286  UNITED KINGDOM\n",
       "5941        18287  UNITED KINGDOM\n",
       "\n",
       "[5942 rows x 2 columns]"
      ]
     },
     "execution_count": 69,
     "metadata": {},
     "output_type": "execute_result"
    }
   ],
   "source": [
    "# create customer dataset from online retail data\n",
    "df_customers_pivot = df.pivot_table(index=\"Customer ID\", values=\"Country\", aggfunc=(lambda x: x))\n",
    "df_customers = pd.DataFrame({'customer_id': df_customers_pivot.index, 'country': df_customers_pivot['Country']}).reset_index()\n",
    "df_customers['country'] = df_customers['country'].apply(lambda x: x[0].upper())\n",
    "df_customers['country'] = df_customers['country'].apply(lambda x: 'UNITED KINGDOM' if x=='U' else x)\n",
    "df_customers['country'] = df_customers['country'].apply(lambda x: 'IRELAND' if x=='EIRE' else x)\n",
    "df_customers = df_customers[['customer_id', 'country']]\n",
    "df_customers['customer_id'] = df_customers['customer_id'].astype(int)\n",
    "df_customers"
   ]
  },
  {
   "cell_type": "code",
   "execution_count": 70,
   "metadata": {},
   "outputs": [],
   "source": [
    "# save customers table as csv-file\n",
    "customer_path = \"../csv-files/customers_data.csv\"\n",
    "df_customers.to_csv(customer_path, index=False)"
   ]
  },
  {
   "cell_type": "markdown",
   "metadata": {},
   "source": [
    "### 2. Orders Data"
   ]
  },
  {
   "cell_type": "code",
   "execution_count": 71,
   "metadata": {},
   "outputs": [
    {
     "data": {
      "text/html": [
       "<div>\n",
       "<style scoped>\n",
       "    .dataframe tbody tr th:only-of-type {\n",
       "        vertical-align: middle;\n",
       "    }\n",
       "\n",
       "    .dataframe tbody tr th {\n",
       "        vertical-align: top;\n",
       "    }\n",
       "\n",
       "    .dataframe thead th {\n",
       "        text-align: right;\n",
       "    }\n",
       "</style>\n",
       "<table border=\"1\" class=\"dataframe\">\n",
       "  <thead>\n",
       "    <tr style=\"text-align: right;\">\n",
       "      <th></th>\n",
       "      <th>invoice_number</th>\n",
       "      <th>item_id</th>\n",
       "      <th>quantity</th>\n",
       "      <th>invoice_date</th>\n",
       "      <th>customer_id</th>\n",
       "    </tr>\n",
       "  </thead>\n",
       "  <tbody>\n",
       "    <tr>\n",
       "      <th>0</th>\n",
       "      <td>489434</td>\n",
       "      <td>85048</td>\n",
       "      <td>12</td>\n",
       "      <td>1259653500</td>\n",
       "      <td>13085</td>\n",
       "    </tr>\n",
       "    <tr>\n",
       "      <th>1</th>\n",
       "      <td>489434</td>\n",
       "      <td>79323P</td>\n",
       "      <td>12</td>\n",
       "      <td>1259653500</td>\n",
       "      <td>13085</td>\n",
       "    </tr>\n",
       "    <tr>\n",
       "      <th>2</th>\n",
       "      <td>489434</td>\n",
       "      <td>79323W</td>\n",
       "      <td>12</td>\n",
       "      <td>1259653500</td>\n",
       "      <td>13085</td>\n",
       "    </tr>\n",
       "    <tr>\n",
       "      <th>3</th>\n",
       "      <td>489434</td>\n",
       "      <td>22041</td>\n",
       "      <td>48</td>\n",
       "      <td>1259653500</td>\n",
       "      <td>13085</td>\n",
       "    </tr>\n",
       "    <tr>\n",
       "      <th>4</th>\n",
       "      <td>489434</td>\n",
       "      <td>21232</td>\n",
       "      <td>24</td>\n",
       "      <td>1259653500</td>\n",
       "      <td>13085</td>\n",
       "    </tr>\n",
       "    <tr>\n",
       "      <th>...</th>\n",
       "      <td>...</td>\n",
       "      <td>...</td>\n",
       "      <td>...</td>\n",
       "      <td>...</td>\n",
       "      <td>...</td>\n",
       "    </tr>\n",
       "    <tr>\n",
       "      <th>1067366</th>\n",
       "      <td>581587</td>\n",
       "      <td>22899</td>\n",
       "      <td>6</td>\n",
       "      <td>1323435000</td>\n",
       "      <td>12680</td>\n",
       "    </tr>\n",
       "    <tr>\n",
       "      <th>1067367</th>\n",
       "      <td>581587</td>\n",
       "      <td>23254</td>\n",
       "      <td>4</td>\n",
       "      <td>1323435000</td>\n",
       "      <td>12680</td>\n",
       "    </tr>\n",
       "    <tr>\n",
       "      <th>1067368</th>\n",
       "      <td>581587</td>\n",
       "      <td>23255</td>\n",
       "      <td>4</td>\n",
       "      <td>1323435000</td>\n",
       "      <td>12680</td>\n",
       "    </tr>\n",
       "    <tr>\n",
       "      <th>1067369</th>\n",
       "      <td>581587</td>\n",
       "      <td>22138</td>\n",
       "      <td>3</td>\n",
       "      <td>1323435000</td>\n",
       "      <td>12680</td>\n",
       "    </tr>\n",
       "    <tr>\n",
       "      <th>1067370</th>\n",
       "      <td>581587</td>\n",
       "      <td>POST</td>\n",
       "      <td>1</td>\n",
       "      <td>1323435000</td>\n",
       "      <td>12680</td>\n",
       "    </tr>\n",
       "  </tbody>\n",
       "</table>\n",
       "<p>824364 rows × 5 columns</p>\n",
       "</div>"
      ],
      "text/plain": [
       "        invoice_number item_id  quantity  invoice_date  customer_id\n",
       "0               489434   85048        12    1259653500        13085\n",
       "1               489434  79323P        12    1259653500        13085\n",
       "2               489434  79323W        12    1259653500        13085\n",
       "3               489434   22041        48    1259653500        13085\n",
       "4               489434   21232        24    1259653500        13085\n",
       "...                ...     ...       ...           ...          ...\n",
       "1067366         581587   22899         6    1323435000        12680\n",
       "1067367         581587   23254         4    1323435000        12680\n",
       "1067368         581587   23255         4    1323435000        12680\n",
       "1067369         581587   22138         3    1323435000        12680\n",
       "1067370         581587    POST         1    1323435000        12680\n",
       "\n",
       "[824364 rows x 5 columns]"
      ]
     },
     "execution_count": 71,
     "metadata": {},
     "output_type": "execute_result"
    }
   ],
   "source": [
    "# create orders dataset from online retail data\n",
    "df_orders = df[['Invoice', 'StockCode', 'Quantity', 'InvoiceDate', 'Customer ID']]\n",
    "df_orders = df_orders.rename(columns={'Invoice': 'invoice_number', 'StockCode': 'item_id',\n",
    "                          'Quantity': 'quantity', 'InvoiceDate': 'invoice_date',\n",
    "                          'Customer ID': 'customer_id'})\n",
    "df_orders['invoice_date'] = df_orders['invoice_date'].apply(lambda x: int(x.timestamp()))\n",
    "df_orders['customer_id'] = df_orders['customer_id'].astype(int)\n",
    "df_orders"
   ]
  },
  {
   "cell_type": "code",
   "execution_count": 72,
   "metadata": {},
   "outputs": [],
   "source": [
    "# save orders table as csv-file\n",
    "orders_path = \"../csv-files/orders_data.csv\"\n",
    "df_orders.to_csv(orders_path, index=False)"
   ]
  },
  {
   "cell_type": "markdown",
   "metadata": {},
   "source": [
    "### 3. Items Data"
   ]
  },
  {
   "cell_type": "code",
   "execution_count": 73,
   "metadata": {},
   "outputs": [
    {
     "data": {
      "text/html": [
       "<div>\n",
       "<style scoped>\n",
       "    .dataframe tbody tr th:only-of-type {\n",
       "        vertical-align: middle;\n",
       "    }\n",
       "\n",
       "    .dataframe tbody tr th {\n",
       "        vertical-align: top;\n",
       "    }\n",
       "\n",
       "    .dataframe thead th {\n",
       "        text-align: right;\n",
       "    }\n",
       "</style>\n",
       "<table border=\"1\" class=\"dataframe\">\n",
       "  <thead>\n",
       "    <tr style=\"text-align: right;\">\n",
       "      <th></th>\n",
       "      <th>item_id</th>\n",
       "      <th>description</th>\n",
       "      <th>price_in_GBP</th>\n",
       "    </tr>\n",
       "  </thead>\n",
       "  <tbody>\n",
       "    <tr>\n",
       "      <th>0</th>\n",
       "      <td>10002</td>\n",
       "      <td>INFLATABLE POLITICAL GLOBE</td>\n",
       "      <td>0.850</td>\n",
       "    </tr>\n",
       "    <tr>\n",
       "      <th>324</th>\n",
       "      <td>10080</td>\n",
       "      <td>GROOVY CACTUS INFLATABLE</td>\n",
       "      <td>0.850</td>\n",
       "    </tr>\n",
       "    <tr>\n",
       "      <th>351</th>\n",
       "      <td>10109</td>\n",
       "      <td>BENDY COLOUR PENCILS</td>\n",
       "      <td>0.420</td>\n",
       "    </tr>\n",
       "    <tr>\n",
       "      <th>352</th>\n",
       "      <td>10120</td>\n",
       "      <td>DOGGY RUBBER</td>\n",
       "      <td>0.210</td>\n",
       "    </tr>\n",
       "    <tr>\n",
       "      <th>419</th>\n",
       "      <td>10125</td>\n",
       "      <td>MINI FUNKY DESIGN TAPES</td>\n",
       "      <td>0.850</td>\n",
       "    </tr>\n",
       "    <tr>\n",
       "      <th>...</th>\n",
       "      <td>...</td>\n",
       "      <td>...</td>\n",
       "      <td>...</td>\n",
       "    </tr>\n",
       "    <tr>\n",
       "      <th>822308</th>\n",
       "      <td>PADS</td>\n",
       "      <td>PADS TO MATCH ALL CUSHIONS</td>\n",
       "      <td>0.001</td>\n",
       "    </tr>\n",
       "    <tr>\n",
       "      <th>822327</th>\n",
       "      <td>POST</td>\n",
       "      <td>POSTAGE</td>\n",
       "      <td>18.000</td>\n",
       "    </tr>\n",
       "    <tr>\n",
       "      <th>824346</th>\n",
       "      <td>SP1002</td>\n",
       "      <td>KID'S CHALKBOARD/EASEL</td>\n",
       "      <td>2.950</td>\n",
       "    </tr>\n",
       "    <tr>\n",
       "      <th>824348</th>\n",
       "      <td>TEST001</td>\n",
       "      <td>This is a test product.</td>\n",
       "      <td>4.500</td>\n",
       "    </tr>\n",
       "    <tr>\n",
       "      <th>824363</th>\n",
       "      <td>TEST002</td>\n",
       "      <td>This is a test product.</td>\n",
       "      <td>1.000</td>\n",
       "    </tr>\n",
       "  </tbody>\n",
       "</table>\n",
       "<p>4646 rows × 3 columns</p>\n",
       "</div>"
      ],
      "text/plain": [
       "        item_id                  description  price_in_GBP\n",
       "0         10002  INFLATABLE POLITICAL GLOBE          0.850\n",
       "324       10080     GROOVY CACTUS INFLATABLE         0.850\n",
       "351       10109         BENDY COLOUR PENCILS         0.420\n",
       "352       10120                 DOGGY RUBBER         0.210\n",
       "419       10125      MINI FUNKY DESIGN TAPES         0.850\n",
       "...         ...                          ...           ...\n",
       "822308     PADS   PADS TO MATCH ALL CUSHIONS         0.001\n",
       "822327     POST                      POSTAGE        18.000\n",
       "824346   SP1002       KID'S CHALKBOARD/EASEL         2.950\n",
       "824348  TEST001      This is a test product.         4.500\n",
       "824363  TEST002      This is a test product.         1.000\n",
       "\n",
       "[4646 rows x 3 columns]"
      ]
     },
     "execution_count": 73,
     "metadata": {},
     "output_type": "execute_result"
    }
   ],
   "source": [
    "# create itmes dataset from online retail data\n",
    "df_items_group = df.groupby('StockCode').agg({'Description': lambda x: ', '.join(x.unique())})\n",
    "df_description = pd.DataFrame({'Description': df_items_group['Description']}).reset_index()\n",
    "df_items = pd.merge(df_description, df[['StockCode', 'Price']], on=\"StockCode\", how='left').drop_duplicates(subset=['StockCode'])\n",
    "df_items = df_items.rename(columns={'StockCode': 'item_id', 'Price': 'price_in_GBP', 'Description': 'description'})\n",
    "df_items"
   ]
  },
  {
   "cell_type": "code",
   "execution_count": 74,
   "metadata": {},
   "outputs": [],
   "source": [
    "# save items table as csv-file\n",
    "items_path = \"../csv-files/items_data.csv\"\n",
    "df_items.to_csv(items_path, index=False)"
   ]
  },
  {
   "cell_type": "markdown",
   "metadata": {},
   "source": [
    "#### 4. Currency Exchange Rate Data"
   ]
  },
  {
   "cell_type": "code",
   "execution_count": 75,
   "metadata": {},
   "outputs": [],
   "source": [
    "# get list of currency names for currencies from API\n",
    "API_KEY = os.getenv('api_key')\n",
    "request_url = f\"https://v6.exchangerate-api.com/v6/{API_KEY}/codes\"\n",
    "response = re.get(url=request_url)\n",
    "\n",
    "currency_codes = [result[0] for result in response.json()['supported_codes']]\n",
    "currency_names = [result[1] for result in response.json()['supported_codes']]\n",
    "\n",
    "df_codes = pd.DataFrame({'currency_code': currency_codes, 'currency_name': currency_names})"
   ]
  },
  {
   "cell_type": "code",
   "execution_count": 76,
   "metadata": {},
   "outputs": [],
   "source": [
    "h# get latest exchange rates for 'GBP' (Pound Sterlin) and latest update value\n",
    "CURRENCY_CODE = 'GBP'\n",
    "request_url = f\"https://v6.exchangerate-api.com/v6/{API_KEY}/latest/{CURRENCY_CODE}\"\n",
    "response = re.get(url=request_url)\n",
    "\n",
    "rate_dict = response.json()['conversion_rates']\n",
    "currencies = [currency for currency in rate_dict.keys()]\n",
    "exchange_rates = [exchange_rate for exchange_rate in rate_dict.values()]\n",
    "\n",
    "date = response.json()['time_last_update_unix']\n",
    "currency_dates = [date for k in range(len(exchange_rates))]\n",
    "\n",
    "df_exchange = pd.DataFrame({'currency_code': currencies, 'exchange_rate': exchange_rates, 'last_update': currency_dates})"
   ]
  },
  {
   "cell_type": "code",
   "execution_count": 77,
   "metadata": {},
   "outputs": [
    {
     "data": {
      "text/html": [
       "<div>\n",
       "<style scoped>\n",
       "    .dataframe tbody tr th:only-of-type {\n",
       "        vertical-align: middle;\n",
       "    }\n",
       "\n",
       "    .dataframe tbody tr th {\n",
       "        vertical-align: top;\n",
       "    }\n",
       "\n",
       "    .dataframe thead th {\n",
       "        text-align: right;\n",
       "    }\n",
       "</style>\n",
       "<table border=\"1\" class=\"dataframe\">\n",
       "  <thead>\n",
       "    <tr style=\"text-align: right;\">\n",
       "      <th></th>\n",
       "      <th>currency_code</th>\n",
       "      <th>currency_name</th>\n",
       "      <th>exchange_rate</th>\n",
       "      <th>last_update</th>\n",
       "    </tr>\n",
       "  </thead>\n",
       "  <tbody>\n",
       "    <tr>\n",
       "      <th>0</th>\n",
       "      <td>AED</td>\n",
       "      <td>UAE Dirham</td>\n",
       "      <td>4.740978</td>\n",
       "      <td>1721426401</td>\n",
       "    </tr>\n",
       "    <tr>\n",
       "      <th>1</th>\n",
       "      <td>AFN</td>\n",
       "      <td>Afghan Afghani</td>\n",
       "      <td>91.978092</td>\n",
       "      <td>1721426401</td>\n",
       "    </tr>\n",
       "    <tr>\n",
       "      <th>2</th>\n",
       "      <td>ALL</td>\n",
       "      <td>Albanian Lek</td>\n",
       "      <td>119.297299</td>\n",
       "      <td>1721426401</td>\n",
       "    </tr>\n",
       "    <tr>\n",
       "      <th>3</th>\n",
       "      <td>AMD</td>\n",
       "      <td>Armenian Dram</td>\n",
       "      <td>501.614582</td>\n",
       "      <td>1721426401</td>\n",
       "    </tr>\n",
       "    <tr>\n",
       "      <th>4</th>\n",
       "      <td>ANG</td>\n",
       "      <td>Netherlands Antillian Guilder</td>\n",
       "      <td>2.310783</td>\n",
       "      <td>1721426401</td>\n",
       "    </tr>\n",
       "    <tr>\n",
       "      <th>...</th>\n",
       "      <td>...</td>\n",
       "      <td>...</td>\n",
       "      <td>...</td>\n",
       "      <td>...</td>\n",
       "    </tr>\n",
       "    <tr>\n",
       "      <th>157</th>\n",
       "      <td>XPF</td>\n",
       "      <td>CFP Franc</td>\n",
       "      <td>141.598874</td>\n",
       "      <td>1721426401</td>\n",
       "    </tr>\n",
       "    <tr>\n",
       "      <th>158</th>\n",
       "      <td>YER</td>\n",
       "      <td>Yemeni Rial</td>\n",
       "      <td>325.318848</td>\n",
       "      <td>1721426401</td>\n",
       "    </tr>\n",
       "    <tr>\n",
       "      <th>159</th>\n",
       "      <td>ZAR</td>\n",
       "      <td>South African Rand</td>\n",
       "      <td>23.603420</td>\n",
       "      <td>1721426401</td>\n",
       "    </tr>\n",
       "    <tr>\n",
       "      <th>160</th>\n",
       "      <td>ZMW</td>\n",
       "      <td>Zambian Kwacha</td>\n",
       "      <td>33.279383</td>\n",
       "      <td>1721426401</td>\n",
       "    </tr>\n",
       "    <tr>\n",
       "      <th>161</th>\n",
       "      <td>ZWL</td>\n",
       "      <td>Zimbabwean Dollar</td>\n",
       "      <td>18.192700</td>\n",
       "      <td>1721426401</td>\n",
       "    </tr>\n",
       "  </tbody>\n",
       "</table>\n",
       "<p>162 rows × 4 columns</p>\n",
       "</div>"
      ],
      "text/plain": [
       "    currency_code                  currency_name  exchange_rate  last_update\n",
       "0             AED                     UAE Dirham       4.740978   1721426401\n",
       "1             AFN                 Afghan Afghani      91.978092   1721426401\n",
       "2             ALL                   Albanian Lek     119.297299   1721426401\n",
       "3             AMD                  Armenian Dram     501.614582   1721426401\n",
       "4             ANG  Netherlands Antillian Guilder       2.310783   1721426401\n",
       "..            ...                            ...            ...          ...\n",
       "157           XPF                      CFP Franc     141.598874   1721426401\n",
       "158           YER                    Yemeni Rial     325.318848   1721426401\n",
       "159           ZAR             South African Rand      23.603420   1721426401\n",
       "160           ZMW                 Zambian Kwacha      33.279383   1721426401\n",
       "161           ZWL              Zimbabwean Dollar      18.192700   1721426401\n",
       "\n",
       "[162 rows x 4 columns]"
      ]
     },
     "execution_count": 77,
     "metadata": {},
     "output_type": "execute_result"
    }
   ],
   "source": [
    "# merge currency names and exchange rates to create currencies table\n",
    "df_currencies = pd.merge(df_codes, df_exchange, on='currency_code', how='outer')\n",
    "df_currencies"
   ]
  },
  {
   "cell_type": "code",
   "execution_count": 78,
   "metadata": {},
   "outputs": [],
   "source": [
    "# save currencies table as csv-file\n",
    "currencies_path = \"../csv-files/currency_exchange_data.csv\"\n",
    "df_currencies.to_csv(currencies_path, index=False)"
   ]
  },
  {
   "cell_type": "markdown",
   "metadata": {},
   "source": [
    "#### 5. Country Courrency Data"
   ]
  },
  {
   "cell_type": "code",
   "execution_count": 79,
   "metadata": {},
   "outputs": [],
   "source": [
    "# retrieve data about countries and their currencies from website \n",
    "request_url = \"https://www.iban.com/currency-codes\"\n",
    "response = re.get(request_url)\n",
    "\n",
    "soup = BeautifulSoup(response.content, \"html.parser\")\n",
    "\n",
    "result = soup.find(name='table', class_='table table-bordered downloads tablesorter')\n",
    "items = result.find_all(name='tr')"
   ]
  },
  {
   "cell_type": "code",
   "execution_count": 80,
   "metadata": {},
   "outputs": [],
   "source": [
    "# create countries table\n",
    "country_names = []\n",
    "currency_codes = []\n",
    "for k in range(len(items)-1):\n",
    "    k += 1\n",
    "    item = str(items[k]).split('</td>')\n",
    "    country_name = item[0][9:]\n",
    "    currency_code = item[2][-3:]\n",
    "    country_names.append(country_name)\n",
    "    currency_codes.append(currency_code)\n",
    "df_countries_0 = pd.DataFrame({'country': country_names, 'currency_code': currency_codes})\n",
    "df_countries_group = df_countries_0.groupby('country').agg({'currency_code': lambda x: ', '.join(x.unique())})\n",
    "df_countries = pd.DataFrame({'currency_code': df_countries_group['currency_code']}).reset_index()\n",
    "df_countries['country'] = df_countries['country'].apply(lambda x: 'UNITED KINGDOM' if x=='UNITED KINGDOM OF GREAT    BRITAIN AND NORTHERN IRELAND (THE)' else x)\n",
    "df_countries['country'] = df_countries['country'].apply(lambda x: 'UNITED ARAB EMIRATES' if x=='UNITED ARAB EMIRATES (THE)' else x)\n",
    "df_countries['country'] = df_countries['country'].apply(lambda x: 'NETHERLANDS' if x=='NETHERLANDS (THE)' else x)\n",
    "df_countries['currency_code'] = df_countries['currency_code'].apply(lambda x: 'CHF' if x=='CHE, CHF, CHW' else x)"
   ]
  },
  {
   "cell_type": "code",
   "execution_count": 81,
   "metadata": {},
   "outputs": [],
   "source": [
    "# save countries table as csv-file\n",
    "countries_path = \"../csv-files/currency_country_data.csv\"\n",
    "df_countries.to_csv(countries_path, index=False)"
   ]
  },
  {
   "cell_type": "markdown",
   "metadata": {},
   "source": [
    "### DATAFRAMES OVERVIEW"
   ]
  },
  {
   "cell_type": "code",
   "execution_count": 82,
   "metadata": {},
   "outputs": [
    {
     "data": {
      "text/html": [
       "<div>\n",
       "<style scoped>\n",
       "    .dataframe tbody tr th:only-of-type {\n",
       "        vertical-align: middle;\n",
       "    }\n",
       "\n",
       "    .dataframe tbody tr th {\n",
       "        vertical-align: top;\n",
       "    }\n",
       "\n",
       "    .dataframe thead th {\n",
       "        text-align: right;\n",
       "    }\n",
       "</style>\n",
       "<table border=\"1\" class=\"dataframe\">\n",
       "  <thead>\n",
       "    <tr style=\"text-align: right;\">\n",
       "      <th></th>\n",
       "      <th>customer_id</th>\n",
       "      <th>country</th>\n",
       "    </tr>\n",
       "  </thead>\n",
       "  <tbody>\n",
       "    <tr>\n",
       "      <th>0</th>\n",
       "      <td>12346</td>\n",
       "      <td>UNITED KINGDOM</td>\n",
       "    </tr>\n",
       "    <tr>\n",
       "      <th>1</th>\n",
       "      <td>12347</td>\n",
       "      <td>ICELAND</td>\n",
       "    </tr>\n",
       "    <tr>\n",
       "      <th>2</th>\n",
       "      <td>12348</td>\n",
       "      <td>FINLAND</td>\n",
       "    </tr>\n",
       "  </tbody>\n",
       "</table>\n",
       "</div>"
      ],
      "text/plain": [
       "   customer_id         country\n",
       "0        12346  UNITED KINGDOM\n",
       "1        12347         ICELAND\n",
       "2        12348         FINLAND"
      ]
     },
     "execution_count": 82,
     "metadata": {},
     "output_type": "execute_result"
    }
   ],
   "source": [
    "df_customers.head(3)"
   ]
  },
  {
   "cell_type": "code",
   "execution_count": 83,
   "metadata": {},
   "outputs": [
    {
     "data": {
      "text/html": [
       "<div>\n",
       "<style scoped>\n",
       "    .dataframe tbody tr th:only-of-type {\n",
       "        vertical-align: middle;\n",
       "    }\n",
       "\n",
       "    .dataframe tbody tr th {\n",
       "        vertical-align: top;\n",
       "    }\n",
       "\n",
       "    .dataframe thead th {\n",
       "        text-align: right;\n",
       "    }\n",
       "</style>\n",
       "<table border=\"1\" class=\"dataframe\">\n",
       "  <thead>\n",
       "    <tr style=\"text-align: right;\">\n",
       "      <th></th>\n",
       "      <th>invoice_number</th>\n",
       "      <th>item_id</th>\n",
       "      <th>quantity</th>\n",
       "      <th>invoice_date</th>\n",
       "      <th>customer_id</th>\n",
       "    </tr>\n",
       "  </thead>\n",
       "  <tbody>\n",
       "    <tr>\n",
       "      <th>0</th>\n",
       "      <td>489434</td>\n",
       "      <td>85048</td>\n",
       "      <td>12</td>\n",
       "      <td>1259653500</td>\n",
       "      <td>13085</td>\n",
       "    </tr>\n",
       "    <tr>\n",
       "      <th>1</th>\n",
       "      <td>489434</td>\n",
       "      <td>79323P</td>\n",
       "      <td>12</td>\n",
       "      <td>1259653500</td>\n",
       "      <td>13085</td>\n",
       "    </tr>\n",
       "    <tr>\n",
       "      <th>2</th>\n",
       "      <td>489434</td>\n",
       "      <td>79323W</td>\n",
       "      <td>12</td>\n",
       "      <td>1259653500</td>\n",
       "      <td>13085</td>\n",
       "    </tr>\n",
       "    <tr>\n",
       "      <th>3</th>\n",
       "      <td>489434</td>\n",
       "      <td>22041</td>\n",
       "      <td>48</td>\n",
       "      <td>1259653500</td>\n",
       "      <td>13085</td>\n",
       "    </tr>\n",
       "    <tr>\n",
       "      <th>4</th>\n",
       "      <td>489434</td>\n",
       "      <td>21232</td>\n",
       "      <td>24</td>\n",
       "      <td>1259653500</td>\n",
       "      <td>13085</td>\n",
       "    </tr>\n",
       "  </tbody>\n",
       "</table>\n",
       "</div>"
      ],
      "text/plain": [
       "  invoice_number item_id  quantity  invoice_date  customer_id\n",
       "0         489434   85048        12    1259653500        13085\n",
       "1         489434  79323P        12    1259653500        13085\n",
       "2         489434  79323W        12    1259653500        13085\n",
       "3         489434   22041        48    1259653500        13085\n",
       "4         489434   21232        24    1259653500        13085"
      ]
     },
     "execution_count": 83,
     "metadata": {},
     "output_type": "execute_result"
    }
   ],
   "source": [
    "df_orders.head()"
   ]
  },
  {
   "cell_type": "code",
   "execution_count": 84,
   "metadata": {},
   "outputs": [
    {
     "data": {
      "text/html": [
       "<div>\n",
       "<style scoped>\n",
       "    .dataframe tbody tr th:only-of-type {\n",
       "        vertical-align: middle;\n",
       "    }\n",
       "\n",
       "    .dataframe tbody tr th {\n",
       "        vertical-align: top;\n",
       "    }\n",
       "\n",
       "    .dataframe thead th {\n",
       "        text-align: right;\n",
       "    }\n",
       "</style>\n",
       "<table border=\"1\" class=\"dataframe\">\n",
       "  <thead>\n",
       "    <tr style=\"text-align: right;\">\n",
       "      <th></th>\n",
       "      <th>item_id</th>\n",
       "      <th>description</th>\n",
       "      <th>price_in_GBP</th>\n",
       "    </tr>\n",
       "  </thead>\n",
       "  <tbody>\n",
       "    <tr>\n",
       "      <th>0</th>\n",
       "      <td>10002</td>\n",
       "      <td>INFLATABLE POLITICAL GLOBE</td>\n",
       "      <td>0.85</td>\n",
       "    </tr>\n",
       "    <tr>\n",
       "      <th>324</th>\n",
       "      <td>10080</td>\n",
       "      <td>GROOVY CACTUS INFLATABLE</td>\n",
       "      <td>0.85</td>\n",
       "    </tr>\n",
       "    <tr>\n",
       "      <th>351</th>\n",
       "      <td>10109</td>\n",
       "      <td>BENDY COLOUR PENCILS</td>\n",
       "      <td>0.42</td>\n",
       "    </tr>\n",
       "  </tbody>\n",
       "</table>\n",
       "</div>"
      ],
      "text/plain": [
       "    item_id                  description  price_in_GBP\n",
       "0     10002  INFLATABLE POLITICAL GLOBE           0.85\n",
       "324   10080     GROOVY CACTUS INFLATABLE          0.85\n",
       "351   10109         BENDY COLOUR PENCILS          0.42"
      ]
     },
     "execution_count": 84,
     "metadata": {},
     "output_type": "execute_result"
    }
   ],
   "source": [
    "df_items.head(3)"
   ]
  },
  {
   "cell_type": "code",
   "execution_count": 85,
   "metadata": {},
   "outputs": [
    {
     "data": {
      "text/html": [
       "<div>\n",
       "<style scoped>\n",
       "    .dataframe tbody tr th:only-of-type {\n",
       "        vertical-align: middle;\n",
       "    }\n",
       "\n",
       "    .dataframe tbody tr th {\n",
       "        vertical-align: top;\n",
       "    }\n",
       "\n",
       "    .dataframe thead th {\n",
       "        text-align: right;\n",
       "    }\n",
       "</style>\n",
       "<table border=\"1\" class=\"dataframe\">\n",
       "  <thead>\n",
       "    <tr style=\"text-align: right;\">\n",
       "      <th></th>\n",
       "      <th>currency_code</th>\n",
       "      <th>currency_name</th>\n",
       "      <th>exchange_rate</th>\n",
       "      <th>last_update</th>\n",
       "    </tr>\n",
       "  </thead>\n",
       "  <tbody>\n",
       "    <tr>\n",
       "      <th>0</th>\n",
       "      <td>AED</td>\n",
       "      <td>UAE Dirham</td>\n",
       "      <td>4.740978</td>\n",
       "      <td>1721426401</td>\n",
       "    </tr>\n",
       "    <tr>\n",
       "      <th>1</th>\n",
       "      <td>AFN</td>\n",
       "      <td>Afghan Afghani</td>\n",
       "      <td>91.978092</td>\n",
       "      <td>1721426401</td>\n",
       "    </tr>\n",
       "    <tr>\n",
       "      <th>2</th>\n",
       "      <td>ALL</td>\n",
       "      <td>Albanian Lek</td>\n",
       "      <td>119.297299</td>\n",
       "      <td>1721426401</td>\n",
       "    </tr>\n",
       "  </tbody>\n",
       "</table>\n",
       "</div>"
      ],
      "text/plain": [
       "  currency_code   currency_name  exchange_rate  last_update\n",
       "0           AED      UAE Dirham       4.740978   1721426401\n",
       "1           AFN  Afghan Afghani      91.978092   1721426401\n",
       "2           ALL    Albanian Lek     119.297299   1721426401"
      ]
     },
     "execution_count": 85,
     "metadata": {},
     "output_type": "execute_result"
    }
   ],
   "source": [
    "df_currencies.head(3)"
   ]
  },
  {
   "cell_type": "code",
   "execution_count": 103,
   "metadata": {},
   "outputs": [
    {
     "data": {
      "text/plain": [
       "142"
      ]
     },
     "execution_count": 103,
     "metadata": {},
     "output_type": "execute_result"
    }
   ],
   "source": [
    "# Make sure all the values of reference key get included in foreign key of countries table \n",
    "common_df_countries = df_countries[df_countries['currency_code'].isin(df_currencies['currency_code'])]\n"
   ]
  },
  {
   "cell_type": "code",
   "execution_count": 126,
   "metadata": {},
   "outputs": [],
   "source": [
    "# Make sure all the values of reference key get included in foreign key of customers table \n",
    "df_customers_updated = df_customers.merge(common_df_countries[['country']], on='country', how='inner')\n"
   ]
  },
  {
   "cell_type": "code",
   "execution_count": 137,
   "metadata": {},
   "outputs": [
    {
     "data": {
      "text/plain": [
       "(821302, 5)"
      ]
     },
     "execution_count": 137,
     "metadata": {},
     "output_type": "execute_result"
    }
   ],
   "source": [
    "# Make sure all the values of reference key get included in foreign key of order table \n",
    "df_orders_updated = df_orders.merge(df_customers_updated[['customer_id']], on='customer_id', how='inner')\n"
   ]
  },
  {
   "cell_type": "markdown",
   "metadata": {},
   "source": [
    "### POPULATING TABLES IN MYSQL SCHEMA (retail_online) FROM DATABASES"
   ]
  },
  {
   "cell_type": "code",
   "execution_count": 93,
   "metadata": {},
   "outputs": [],
   "source": [
    "\n",
    "\n",
    "user = \"root\"\n",
    "password_ = os.getenv('SECRET_KEY')\n",
    "host = \"127.0.0.1\"\n",
    "port = \"3306\"\n",
    "db_actions = \"retail_online\"\n",
    "from sqlalchemy import create_engine\n",
    "engine = create_engine(f'mysql+mysqlconnector://{user}:{password_}@{host}:{port}/{db_actions}')"
   ]
  },
  {
   "cell_type": "code",
   "execution_count": 115,
   "metadata": {},
   "outputs": [
    {
     "data": {
      "text/plain": [
       "162"
      ]
     },
     "execution_count": 115,
     "metadata": {},
     "output_type": "execute_result"
    }
   ],
   "source": [
    "# populate currencies table\n",
    "df_currencies.to_sql(name='currencies', con=engine, index=False, if_exists='append')"
   ]
  },
  {
   "cell_type": "code",
   "execution_count": 116,
   "metadata": {},
   "outputs": [
    {
     "data": {
      "text/plain": [
       "233"
      ]
     },
     "execution_count": 116,
     "metadata": {},
     "output_type": "execute_result"
    }
   ],
   "source": [
    "# populate countries table\n",
    "common_df_countries.to_sql(name='countries', con=engine, index=False, if_exists='append')"
   ]
  },
  {
   "cell_type": "code",
   "execution_count": 128,
   "metadata": {},
   "outputs": [
    {
     "data": {
      "text/plain": [
       "5897"
      ]
     },
     "execution_count": 128,
     "metadata": {},
     "output_type": "execute_result"
    }
   ],
   "source": [
    "# populate customers table\n",
    "df_customers_updated.to_sql(name='customers', con=engine, index=False, if_exists='append')"
   ]
  },
  {
   "cell_type": "code",
   "execution_count": 130,
   "metadata": {},
   "outputs": [
    {
     "data": {
      "text/plain": [
       "4646"
      ]
     },
     "execution_count": 130,
     "metadata": {},
     "output_type": "execute_result"
    }
   ],
   "source": [
    "# populate items table\n",
    "df_items.to_sql(name='items', con=engine, index=False, if_exists='append')"
   ]
  },
  {
   "cell_type": "code",
   "execution_count": 138,
   "metadata": {},
   "outputs": [
    {
     "data": {
      "text/plain": [
       "821302"
      ]
     },
     "execution_count": 138,
     "metadata": {},
     "output_type": "execute_result"
    }
   ],
   "source": [
    "# populate orders table\n",
    "df_orders_updated.to_sql(name='orders', con=engine, index=False, if_exists='append')"
   ]
  },
  {
   "cell_type": "code",
   "execution_count": null,
   "metadata": {},
   "outputs": [],
   "source": []
  }
 ],
 "metadata": {
  "kernelspec": {
   "display_name": "base",
   "language": "python",
   "name": "python3"
  },
  "language_info": {
   "codemirror_mode": {
    "name": "ipython",
    "version": 3
   },
   "file_extension": ".py",
   "mimetype": "text/x-python",
   "name": "python",
   "nbconvert_exporter": "python",
   "pygments_lexer": "ipython3",
   "version": "3.11.7"
  }
 },
 "nbformat": 4,
 "nbformat_minor": 2
}
