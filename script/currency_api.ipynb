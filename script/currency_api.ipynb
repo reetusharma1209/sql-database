{
 "cells": [
  {
   "cell_type": "code",
   "execution_count": 1,
   "metadata": {},
   "outputs": [],
   "source": [
    "import requests as re\n",
    "import pandas as pd\n",
    "from dotenv import load_dotenv\n",
    "import os"
   ]
  },
  {
   "cell_type": "code",
   "execution_count": 2,
   "metadata": {},
   "outputs": [],
   "source": [
    "load_dotenv()\n",
    "API_KEY = os.getenv('api_key')"
   ]
  },
  {
   "cell_type": "markdown",
   "metadata": {},
   "source": [
    "#### Create Dataframe assigning Currency Codes to their Names"
   ]
  },
  {
   "cell_type": "code",
   "execution_count": 3,
   "metadata": {},
   "outputs": [],
   "source": [
    "# Get list of available currencies\n",
    "request_url = f\"https://v6.exchangerate-api.com/v6/{API_KEY}/codes\"\n",
    "response = re.get(url=request_url)"
   ]
  },
  {
   "cell_type": "code",
   "execution_count": 5,
   "metadata": {},
   "outputs": [],
   "source": [
    "currency_codes = [result[0] for result in response.json()['supported_codes']]\n",
    "currency_names = [result[1] for result in response.json()['supported_codes']]\n",
    "\n",
    "df_codes = pd.DataFrame({'currency_code': currency_codes, 'currency_name': currency_names})"
   ]
  },
  {
   "cell_type": "markdown",
   "metadata": {},
   "source": [
    "#### Create Dataframe with GDP Exchange Rates for each Currency Code"
   ]
  },
  {
   "cell_type": "code",
   "execution_count": 6,
   "metadata": {},
   "outputs": [],
   "source": [
    "# Get latest exchange rates for 'GBP' (Pound Sterlin)\n",
    "CURRENCY_CODE = 'GBP'\n",
    "request_url = f\"https://v6.exchangerate-api.com/v6/{API_KEY}/latest/{CURRENCY_CODE}\"\n",
    "response = re.get(url=request_url)"
   ]
  },
  {
   "cell_type": "code",
   "execution_count": 7,
   "metadata": {},
   "outputs": [],
   "source": [
    "rate_dict = response.json()['conversion_rates']\n",
    "currencies = [currency for currency in rate_dict.keys()]\n",
    "exchange_rates = [exchange_rate for exchange_rate in rate_dict.values()]\n",
    "\n",
    "date = response.json()['time_last_update_unix']\n",
    "currency_dates = [date for k in range(len(exchange_rates))]\n",
    "\n",
    "df_exchange = pd.DataFrame({'currency_code': currencies, 'exchange_rate': exchange_rates, 'date': currency_dates})"
   ]
  },
  {
   "cell_type": "markdown",
   "metadata": {},
   "source": [
    "#### Merge two Dataframes and save as CSV-File"
   ]
  },
  {
   "cell_type": "code",
   "execution_count": 8,
   "metadata": {},
   "outputs": [],
   "source": [
    "df = pd.merge(df_codes, df_exchange, on='currency_code', how='outer')\n",
    "path = \"../csv-files/currency_exchange_data.csv\"\n",
    "df.to_csv(path, index=False)"
   ]
  }
 ],
 "metadata": {
  "kernelspec": {
   "display_name": "base",
   "language": "python",
   "name": "python3"
  },
  "language_info": {
   "codemirror_mode": {
    "name": "ipython",
    "version": 3
   },
   "file_extension": ".py",
   "mimetype": "text/x-python",
   "name": "python",
   "nbconvert_exporter": "python",
   "pygments_lexer": "ipython3",
   "version": "3.11.7"
  }
 },
 "nbformat": 4,
 "nbformat_minor": 2
}
